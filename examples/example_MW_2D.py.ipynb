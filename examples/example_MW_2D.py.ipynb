{
 "cells": [
  {
   "cell_type": "code",
   "execution_count": 1,
   "metadata": {},
   "outputs": [],
   "source": [
    "from findthegap.gapper import Gapper"
   ]
  },
  {
   "cell_type": "code",
   "execution_count": 10,
   "metadata": {},
   "outputs": [
    {
     "ename": "ImportError",
     "evalue": "cannot import name 'coords'",
     "output_type": "error",
     "traceback": [
      "\u001b[0;31m---------------------------------------------------------------------------\u001b[0m",
      "\u001b[0;31mImportError\u001b[0m                               Traceback (most recent call last)",
      "\u001b[0;32m<ipython-input-10-912e3c47d61e>\u001b[0m in \u001b[0;36m<module>\u001b[0;34m\u001b[0m\n\u001b[1;32m      5\u001b[0m \u001b[0;32mimport\u001b[0m \u001b[0mtime\u001b[0m\u001b[0;34m\u001b[0m\u001b[0;34m\u001b[0m\u001b[0m\n\u001b[1;32m      6\u001b[0m \u001b[0;34m\u001b[0m\u001b[0m\n\u001b[0;32m----> 7\u001b[0;31m \u001b[0;32mfrom\u001b[0m \u001b[0mgalpy\u001b[0m\u001b[0;34m.\u001b[0m\u001b[0mutil\u001b[0m \u001b[0;32mimport\u001b[0m \u001b[0mcoords\u001b[0m\u001b[0;34m\u001b[0m\u001b[0;34m\u001b[0m\u001b[0m\n\u001b[0m\u001b[1;32m      8\u001b[0m \u001b[0;34m\u001b[0m\u001b[0m\n\u001b[1;32m      9\u001b[0m \u001b[0;32mfrom\u001b[0m \u001b[0mastropy\u001b[0m\u001b[0;34m.\u001b[0m\u001b[0mtable\u001b[0m \u001b[0;32mimport\u001b[0m \u001b[0mTable\u001b[0m\u001b[0;34m,\u001b[0m \u001b[0mhstack\u001b[0m\u001b[0;34m\u001b[0m\u001b[0;34m\u001b[0m\u001b[0m\n",
      "\u001b[0;31mImportError\u001b[0m: cannot import name 'coords'"
     ]
    }
   ],
   "source": [
    "import numpy as np\n",
    "import matplotlib\n",
    "import matplotlib.pyplot as plt\n",
    "import matplotlib.cm as cm\n",
    "import time\n",
    "\n",
    "from galpy.util import coords\n",
    "\n",
    "from astropy.table import Table, hstack\n",
    "from sklearn.preprocessing import StandardScaler"
   ]
  },
  {
   "cell_type": "markdown",
   "metadata": {},
   "source": [
    "### Get the data"
   ]
  },
  {
   "cell_type": "code",
   "execution_count": null,
   "metadata": {},
   "outputs": [],
   "source": [
    "# Read the Gaia eDR3 (6D) data file\n",
    "\n",
    "gaia = Table.read('../data/RV-all-result.fits', format='fits')\n",
    "\n",
    "\n",
    "# Parameters to convert from observational to Galactocentric coordinates\n",
    "# Distance from Sun to Galactic centre\n",
    "ro=8.178\n",
    "# Circular velocity at Solar radius\n",
    "vo=248.5-12.32\n",
    "# Sun's height above the disc plane\n",
    "zo=0.0208\n",
    "# Sun's motion towards (away from) Galactic centre\n",
    "u0=-12.9\n",
    "# Sun's peculiar motion in direction of rotation\n",
    "v0=12.32\n",
    "# Sun's vertical motion away from plane\n",
    "w0=8.5\n",
    "\n",
    "\n",
    "\n",
    "# Convert to cartesian / Galacocentric\n",
    "XYZ= coords.lbd_to_XYZ(gaia['l'],gaia['b'],1.0/gaia['parallax'],degree=True)\n",
    "pmllbb= coords.pmrapmdec_to_pmllpmbb(gaia['pmra'],gaia['pmdec'],\n",
    "                                          gaia['ra'],gaia['dec'],degree=True,epoch=None)\n",
    "vxyz= coords.vrpmllpmbb_to_vxvyvz(gaia['radial_velocity'],pmllbb[:,0],pmllbb[:,1],\n",
    "                                       XYZ[:,0],XYZ[:,1],XYZ[:,2],\n",
    "                                       XYZ=True,degree=True)\n",
    "rpz=coords.XYZ_to_galcencyl(XYZ[:,0],XYZ[:,1],XYZ[:,2],ro,zo)\n",
    "vcyl=coords.vxvyvz_to_galcencyl(vxyz[:,0],vxyz[:,1],vxyz[:,2],XYZ[:,0]+ro,XYZ[:,1],XYZ[:,2]+zo,[u0, vo+v0, w0],ro,zo)\n",
    "\n"
   ]
  },
  {
   "cell_type": "code",
   "execution_count": null,
   "metadata": {},
   "outputs": [],
   "source": [
    "# qindx is quality index, roughly what is 'good data'\n",
    "qindx=(gaia['bp_rp']<1.5)*(gaia['phot_g_mean_mag']<14.5)*(gaia['parallax']/gaia['parallax_error']>4.)*(gaia['parallax_error']<0.1)*(gaia['visibility_periods_used']>5.)*(gaia['phot_bp_rp_excess_factor']<1.3)*(gaia['phot_bp_rp_excess_factor']>1.172)\n",
    "\n",
    "# sindx is Jason's selection index. So, this one is everything < 200 pc from the Sun\n",
    "sindx=(1./gaia['parallax']<0.2)\n",
    "\n",
    "\n",
    "z_200pc = np.fabs(rpz[:,2])<.2\n",
    "phi_200 = np.fabs(rpz[:,1]) < np.arctan(0.2/8.178)\n",
    "r_200 = (np.fabs(rpz[:,0]-ro)<0.2)\n",
    "\n",
    "vrmask = np.fabs(vcyl[:,0]) < 125\n",
    "vphimask = (vcyl[:,1] <300) & (vcyl[:,1]>100)\n",
    "all_mask = qindx*sindx*z_200pc*phi_200*r_200*vrmask*vphimask\n",
    "\n"
   ]
  },
  {
   "cell_type": "code",
   "execution_count": null,
   "metadata": {},
   "outputs": [],
   "source": [
    "\n",
    "plt.figure(figsize=(7,7))\n",
    "plt.hexbin(vcyl[:,0][all_mask],vcyl[:,1][all_mask],\n",
    "           gridsize=500,bins='log',mincnt=1,cmap=cm.cividis) \n",
    "\n",
    "plt.xlabel(r'$v_{\\mathrm{R}}\\ (\\mathrm{km\\ s}^{-1})$',fontsize=15)\n",
    "plt.ylabel(r'$v_{\\phi}\\ (\\mathrm{km\\ s}^{-1})$',fontsize=15)\n",
    "plt.show()"
   ]
  },
  {
   "cell_type": "code",
   "execution_count": 3,
   "metadata": {},
   "outputs": [
    {
     "ename": "NameError",
     "evalue": "name 'vcyl' is not defined",
     "output_type": "error",
     "traceback": [
      "\u001b[0;31m---------------------------------------------------------------------------\u001b[0m",
      "\u001b[0;31mNameError\u001b[0m                                 Traceback (most recent call last)",
      "\u001b[0;32m<ipython-input-3-4ffda36ae5f4>\u001b[0m in \u001b[0;36m<module>\u001b[0;34m\u001b[0m\n\u001b[0;32m----> 1\u001b[0;31m \u001b[0mdata_nonorm\u001b[0m \u001b[0;34m=\u001b[0m \u001b[0mnp\u001b[0m\u001b[0;34m.\u001b[0m\u001b[0mappend\u001b[0m\u001b[0;34m(\u001b[0m\u001b[0mvcyl\u001b[0m\u001b[0;34m[\u001b[0m\u001b[0;34m:\u001b[0m\u001b[0;34m,\u001b[0m\u001b[0;36m0\u001b[0m\u001b[0;34m]\u001b[0m\u001b[0;34m[\u001b[0m\u001b[0mall_mask\u001b[0m\u001b[0;34m]\u001b[0m\u001b[0;34m.\u001b[0m\u001b[0mreshape\u001b[0m\u001b[0;34m(\u001b[0m\u001b[0;34m-\u001b[0m\u001b[0;36m1\u001b[0m\u001b[0;34m,\u001b[0m\u001b[0;36m1\u001b[0m\u001b[0;34m)\u001b[0m\u001b[0;34m,\u001b[0m \u001b[0mvcyl\u001b[0m\u001b[0;34m[\u001b[0m\u001b[0;34m:\u001b[0m\u001b[0;34m,\u001b[0m\u001b[0;36m1\u001b[0m\u001b[0;34m]\u001b[0m\u001b[0;34m[\u001b[0m\u001b[0mall_mask\u001b[0m\u001b[0;34m]\u001b[0m\u001b[0;34m.\u001b[0m\u001b[0mreshape\u001b[0m\u001b[0;34m(\u001b[0m\u001b[0;34m-\u001b[0m\u001b[0;36m1\u001b[0m\u001b[0;34m,\u001b[0m\u001b[0;36m1\u001b[0m\u001b[0;34m)\u001b[0m\u001b[0;34m,\u001b[0m \u001b[0maxis\u001b[0m\u001b[0;34m=\u001b[0m\u001b[0;36m1\u001b[0m\u001b[0;34m)\u001b[0m\u001b[0;34m\u001b[0m\u001b[0;34m\u001b[0m\u001b[0m\n\u001b[0m",
      "\u001b[0;31mNameError\u001b[0m: name 'vcyl' is not defined"
     ]
    }
   ],
   "source": [
    "data_nonorm = np.append(vcyl[:,0][all_mask].reshape(-1,1), vcyl[:,1][all_mask].reshape(-1,1), axis=1)"
   ]
  },
  {
   "cell_type": "markdown",
   "metadata": {},
   "source": [
    "### Normalize data\n"
   ]
  },
  {
   "cell_type": "code",
   "execution_count": 4,
   "metadata": {},
   "outputs": [
    {
     "ename": "NameError",
     "evalue": "name 'StandardScaler' is not defined",
     "output_type": "error",
     "traceback": [
      "\u001b[0;31m---------------------------------------------------------------------------\u001b[0m",
      "\u001b[0;31mNameError\u001b[0m                                 Traceback (most recent call last)",
      "\u001b[0;32m<ipython-input-4-aa88b8bac845>\u001b[0m in \u001b[0;36m<module>\u001b[0;34m\u001b[0m\n\u001b[0;32m----> 1\u001b[0;31m \u001b[0mscaler\u001b[0m \u001b[0;34m=\u001b[0m \u001b[0mStandardScaler\u001b[0m\u001b[0;34m(\u001b[0m\u001b[0;34m)\u001b[0m\u001b[0;34m\u001b[0m\u001b[0;34m\u001b[0m\u001b[0m\n\u001b[0m\u001b[1;32m      2\u001b[0m \u001b[0mscaler\u001b[0m\u001b[0;34m.\u001b[0m\u001b[0mfit\u001b[0m\u001b[0;34m(\u001b[0m\u001b[0mdata_nonorm\u001b[0m\u001b[0;34m)\u001b[0m\u001b[0;34m\u001b[0m\u001b[0;34m\u001b[0m\u001b[0m\n\u001b[1;32m      3\u001b[0m \u001b[0mdata\u001b[0m \u001b[0;34m=\u001b[0m \u001b[0mscaler\u001b[0m\u001b[0;34m.\u001b[0m\u001b[0mtransform\u001b[0m\u001b[0;34m(\u001b[0m\u001b[0mdata_nonorm\u001b[0m\u001b[0;34m)\u001b[0m\u001b[0;34m\u001b[0m\u001b[0;34m\u001b[0m\u001b[0m\n",
      "\u001b[0;31mNameError\u001b[0m: name 'StandardScaler' is not defined"
     ]
    }
   ],
   "source": [
    "scaler = StandardScaler()\n",
    "scaler.fit(data_nonorm)\n",
    "data = scaler.transform(data_nonorm)"
   ]
  },
  {
   "cell_type": "code",
   "execution_count": null,
   "metadata": {},
   "outputs": [],
   "source": [
    "fontsize = 20 \n",
    "xlims_norm, ylims_norm = (-2.,2.), (-2.,2.)\n",
    "\n",
    "plt.figure(figsize=(7,7))\n",
    "plt.hexbin(data[:,0],data[:,1],\n",
    "           gridsize=500,bins='log',mincnt=1,cmap=cm.cividis) \n",
    "\n",
    "\n",
    "plt.xlabel(r'$v_{\\mathrm{R}}$ standardized',fontsize=fontsize)\n",
    "plt.ylabel(r'$v_{\\phi}$ standardized',fontsize=fontsize)\n",
    "\n",
    "plt.xlim(*xlims_norm)\n",
    "plt.ylim(*ylims_norm)\n",
    "plt.show()"
   ]
  },
  {
   "cell_type": "code",
   "execution_count": null,
   "metadata": {},
   "outputs": [],
   "source": [
    "# Boundaries for the Gapper (if none are provided, this is the default mode)\n",
    "bounds = np.array([[np.min(data[:,d]),np.max(data[:,d])] for d in range(data.shape[1])])\n"
   ]
  },
  {
   "cell_type": "markdown",
   "metadata": {},
   "source": [
    "## Create a Gapper"
   ]
  },
  {
   "cell_type": "code",
   "execution_count": null,
   "metadata": {},
   "outputs": [],
   "source": [
    "\n",
    "bw = .15 \n",
    "gridding_size = 80\n",
    "gapper_base = Gapper(data, bw, bounds)"
   ]
  },
  {
   "cell_type": "markdown",
   "metadata": {},
   "source": [
    "### Compute the density estimate on a grid over the dataspace"
   ]
  },
  {
   "cell_type": "code",
   "execution_count": 5,
   "metadata": {},
   "outputs": [
    {
     "ename": "NameError",
     "evalue": "name 'gapper_base' is not defined",
     "output_type": "error",
     "traceback": [
      "\u001b[0;31m---------------------------------------------------------------------------\u001b[0m",
      "\u001b[0;31mNameError\u001b[0m                                 Traceback (most recent call last)",
      "\u001b[0;32m<ipython-input-5-dd06805e4983>\u001b[0m in \u001b[0;36m<module>\u001b[0;34m\u001b[0m\n\u001b[1;32m      1\u001b[0m \u001b[0mt\u001b[0m \u001b[0;34m=\u001b[0m \u001b[0mtime\u001b[0m\u001b[0;34m.\u001b[0m\u001b[0mtime\u001b[0m\u001b[0;34m(\u001b[0m\u001b[0;34m)\u001b[0m\u001b[0;34m\u001b[0m\u001b[0;34m\u001b[0m\u001b[0m\n\u001b[0;32m----> 2\u001b[0;31m \u001b[0mgrid_data\u001b[0m\u001b[0;34m,\u001b[0m \u001b[0mgrid_density\u001b[0m \u001b[0;34m=\u001b[0m \u001b[0mgapper_base\u001b[0m\u001b[0;34m.\u001b[0m\u001b[0mcompute_density_grid\u001b[0m\u001b[0;34m(\u001b[0m\u001b[0mgridding_size\u001b[0m \u001b[0;34m=\u001b[0m \u001b[0mgridding_size\u001b[0m\u001b[0;34m)\u001b[0m\u001b[0;34m\u001b[0m\u001b[0;34m\u001b[0m\u001b[0m\n\u001b[0m\u001b[1;32m      3\u001b[0m \u001b[0mprint\u001b[0m\u001b[0;34m(\u001b[0m\u001b[0;34m(\u001b[0m\u001b[0mtime\u001b[0m\u001b[0;34m.\u001b[0m\u001b[0mtime\u001b[0m\u001b[0;34m(\u001b[0m\u001b[0;34m)\u001b[0m \u001b[0;34m-\u001b[0m \u001b[0mt\u001b[0m\u001b[0;34m)\u001b[0m\u001b[0;34m)\u001b[0m\u001b[0;34m\u001b[0m\u001b[0;34m\u001b[0m\u001b[0m\n\u001b[1;32m      4\u001b[0m \u001b[0;34m\u001b[0m\u001b[0m\n\u001b[1;32m      5\u001b[0m \u001b[0;31m## Todo clean this\u001b[0m\u001b[0;34m\u001b[0m\u001b[0;34m\u001b[0m\u001b[0;34m\u001b[0m\u001b[0m\n",
      "\u001b[0;31mNameError\u001b[0m: name 'gapper_base' is not defined"
     ]
    }
   ],
   "source": [
    "t = time.time()\n",
    "grid_data, grid_density = gapper_base.compute_density_grid(gridding_size = gridding_size)\n",
    "print((time.time() - t))\n",
    "\n",
    "## Todo clean this"
   ]
  },
  {
   "cell_type": "code",
   "execution_count": 6,
   "metadata": {},
   "outputs": [
    {
     "ename": "NameError",
     "evalue": "name 'grid_density' is not defined",
     "output_type": "error",
     "traceback": [
      "\u001b[0;31m---------------------------------------------------------------------------\u001b[0m",
      "\u001b[0;31mNameError\u001b[0m                                 Traceback (most recent call last)",
      "\u001b[0;32m<ipython-input-6-015c5e29eb93>\u001b[0m in \u001b[0;36m<module>\u001b[0;34m\u001b[0m\n\u001b[0;32m----> 1\u001b[0;31m \u001b[0mdensity_matr\u001b[0m \u001b[0;34m=\u001b[0m \u001b[0mgrid_density\u001b[0m\u001b[0;34m.\u001b[0m\u001b[0mreshape\u001b[0m\u001b[0;34m(\u001b[0m\u001b[0;34m(\u001b[0m\u001b[0mgridding_size\u001b[0m\u001b[0;34m,\u001b[0m \u001b[0mgridding_size\u001b[0m\u001b[0;34m)\u001b[0m\u001b[0;34m)\u001b[0m\u001b[0;34m\u001b[0m\u001b[0;34m\u001b[0m\u001b[0m\n\u001b[0m",
      "\u001b[0;31mNameError\u001b[0m: name 'grid_density' is not defined"
     ]
    }
   ],
   "source": [
    "density_matr = grid_density.reshape((gridding_size, gridding_size))"
   ]
  },
  {
   "cell_type": "code",
   "execution_count": 7,
   "metadata": {},
   "outputs": [
    {
     "ename": "NameError",
     "evalue": "name 'data' is not defined",
     "output_type": "error",
     "traceback": [
      "\u001b[0;31m---------------------------------------------------------------------------\u001b[0m",
      "\u001b[0;31mNameError\u001b[0m                                 Traceback (most recent call last)",
      "\u001b[0;32m<ipython-input-7-90cfcf764c03>\u001b[0m in \u001b[0;36m<module>\u001b[0;34m\u001b[0m\n\u001b[0;32m----> 1\u001b[0;31m \u001b[0mgrid_linspace\u001b[0m \u001b[0;34m=\u001b[0m \u001b[0;34m[\u001b[0m \u001b[0mnp\u001b[0m\u001b[0;34m.\u001b[0m\u001b[0mlinspace\u001b[0m\u001b[0;34m(\u001b[0m\u001b[0mbounds\u001b[0m\u001b[0;34m[\u001b[0m\u001b[0md\u001b[0m\u001b[0;34m]\u001b[0m\u001b[0;34m[\u001b[0m\u001b[0;36m0\u001b[0m\u001b[0;34m]\u001b[0m\u001b[0;34m,\u001b[0m \u001b[0mbounds\u001b[0m\u001b[0;34m[\u001b[0m\u001b[0md\u001b[0m\u001b[0;34m]\u001b[0m\u001b[0;34m[\u001b[0m\u001b[0;36m1\u001b[0m\u001b[0;34m]\u001b[0m\u001b[0;34m,\u001b[0m \u001b[0mgridding_size\u001b[0m\u001b[0;34m)\u001b[0m \u001b[0;32mfor\u001b[0m \u001b[0md\u001b[0m \u001b[0;32min\u001b[0m \u001b[0mrange\u001b[0m\u001b[0;34m(\u001b[0m\u001b[0mdata\u001b[0m\u001b[0;34m.\u001b[0m\u001b[0mshape\u001b[0m\u001b[0;34m[\u001b[0m\u001b[0;36m1\u001b[0m\u001b[0;34m]\u001b[0m\u001b[0;34m)\u001b[0m \u001b[0;34m]\u001b[0m\u001b[0;34m\u001b[0m\u001b[0;34m\u001b[0m\u001b[0m\n\u001b[0m\u001b[1;32m      2\u001b[0m \u001b[0mmeshgrid\u001b[0m \u001b[0;34m=\u001b[0m \u001b[0mnp\u001b[0m\u001b[0;34m.\u001b[0m\u001b[0marray\u001b[0m\u001b[0;34m(\u001b[0m\u001b[0mnp\u001b[0m\u001b[0;34m.\u001b[0m\u001b[0mmeshgrid\u001b[0m\u001b[0;34m(\u001b[0m\u001b[0;34m*\u001b[0m\u001b[0mgrid_linspace\u001b[0m\u001b[0;34m,\u001b[0m \u001b[0mindexing\u001b[0m\u001b[0;34m=\u001b[0m\u001b[0;34m'ij'\u001b[0m\u001b[0;34m)\u001b[0m\u001b[0;34m)\u001b[0m\u001b[0;34m\u001b[0m\u001b[0;34m\u001b[0m\u001b[0m\n",
      "\u001b[0;31mNameError\u001b[0m: name 'data' is not defined"
     ]
    }
   ],
   "source": [
    "grid_linspace = [ np.linspace(bounds[d][0], bounds[d][1], gridding_size) for d in range(data.shape[1]) ]\n",
    "meshgrid = np.array(np.meshgrid(*grid_linspace, indexing='ij'))"
   ]
  },
  {
   "cell_type": "code",
   "execution_count": 8,
   "metadata": {},
   "outputs": [
    {
     "ename": "NameError",
     "evalue": "name 'meshgrid' is not defined",
     "output_type": "error",
     "traceback": [
      "\u001b[0;31m---------------------------------------------------------------------------\u001b[0m",
      "\u001b[0;31mNameError\u001b[0m                                 Traceback (most recent call last)",
      "\u001b[0;32m<ipython-input-8-a87582a82c3c>\u001b[0m in \u001b[0;36m<module>\u001b[0;34m\u001b[0m\n\u001b[1;32m      1\u001b[0m \u001b[0mplt\u001b[0m\u001b[0;34m.\u001b[0m\u001b[0mfigure\u001b[0m\u001b[0;34m(\u001b[0m\u001b[0mfigsize\u001b[0m\u001b[0;34m=\u001b[0m\u001b[0;34m(\u001b[0m\u001b[0;36m8\u001b[0m\u001b[0;34m,\u001b[0m\u001b[0;36m7\u001b[0m\u001b[0;34m)\u001b[0m\u001b[0;34m)\u001b[0m\u001b[0;34m\u001b[0m\u001b[0;34m\u001b[0m\u001b[0m\n\u001b[1;32m      2\u001b[0m \u001b[0;34m\u001b[0m\u001b[0m\n\u001b[0;32m----> 3\u001b[0;31m \u001b[0mctf\u001b[0m \u001b[0;34m=\u001b[0m \u001b[0mplt\u001b[0m\u001b[0;34m.\u001b[0m\u001b[0mcontourf\u001b[0m\u001b[0;34m(\u001b[0m\u001b[0mmeshgrid\u001b[0m\u001b[0;34m[\u001b[0m\u001b[0;36m0\u001b[0m\u001b[0;34m]\u001b[0m\u001b[0;34m,\u001b[0m \u001b[0mmeshgrid\u001b[0m\u001b[0;34m[\u001b[0m\u001b[0;36m1\u001b[0m\u001b[0;34m]\u001b[0m\u001b[0;34m,\u001b[0m \u001b[0mdensity_matr\u001b[0m\u001b[0;34m,\u001b[0m \u001b[0;36m20\u001b[0m\u001b[0;34m,\u001b[0m \u001b[0mcmap\u001b[0m\u001b[0;34m=\u001b[0m\u001b[0mcm\u001b[0m\u001b[0;34m.\u001b[0m\u001b[0mcividis\u001b[0m\u001b[0;34m)\u001b[0m\u001b[0;34m\u001b[0m\u001b[0;34m\u001b[0m\u001b[0m\n\u001b[0m\u001b[1;32m      4\u001b[0m \u001b[0mcb\u001b[0m \u001b[0;34m=\u001b[0m \u001b[0mplt\u001b[0m\u001b[0;34m.\u001b[0m\u001b[0mcolorbar\u001b[0m\u001b[0;34m(\u001b[0m\u001b[0mlabel\u001b[0m\u001b[0;34m=\u001b[0m\u001b[0;34m'Density estimate'\u001b[0m\u001b[0;34m)\u001b[0m\u001b[0;34m\u001b[0m\u001b[0;34m\u001b[0m\u001b[0m\n\u001b[1;32m      5\u001b[0m \u001b[0;34m\u001b[0m\u001b[0m\n",
      "\u001b[0;31mNameError\u001b[0m: name 'meshgrid' is not defined"
     ]
    },
    {
     "data": {
      "text/plain": [
       "<Figure size 576x504 with 0 Axes>"
      ]
     },
     "metadata": {},
     "output_type": "display_data"
    }
   ],
   "source": [
    "\n",
    "\n",
    "plt.figure(figsize=(8,7))\n",
    "\n",
    "ctf = plt.contourf(meshgrid[0], meshgrid[1], density_matr, 20, cmap=cm.cividis)\n",
    "cb = plt.colorbar(label='Density estimate')\n",
    "\n",
    "plt.xlim(*xlims_norm)\n",
    "plt.ylim(*ylims_norm)\n",
    "\n",
    "ax = cb.ax\n",
    "text = ax.yaxis.label\n",
    "font = matplotlib.font_manager.FontProperties(size=fontsize)\n",
    "text.set_font_properties(font)\n",
    "\n",
    "\n",
    "plt.xlabel(r'$v_{\\mathrm{R}}$ standardized',fontsize=fontsize)\n",
    "plt.ylabel(r'$v_{\\phi}$ standardized',fontsize=fontsize)\n",
    "\n",
    "plt.show()"
   ]
  },
  {
   "cell_type": "markdown",
   "metadata": {},
   "source": [
    "### Compute estimation of all critical points"
   ]
  },
  {
   "cell_type": "code",
   "execution_count": null,
   "metadata": {},
   "outputs": [],
   "source": [
    "t = time.time()\n",
    "critical_points = gapper_base.compute_all_critical_points()\n",
    "print(time.time() - t)"
   ]
  },
  {
   "cell_type": "code",
   "execution_count": null,
   "metadata": {},
   "outputs": [],
   "source": [
    "fontsize = 20 \n",
    "\n",
    "plt.figure(figsize=(8,7))\n",
    "\n",
    "ctf = plt.contourf(meshgrid[0], meshgrid[1], density_matr, 20, cmap=cm.cividis)\n",
    "cb = plt.colorbar(label='Density estimate')\n",
    "\n",
    "# plt.xlim(*xlims_norm)\n",
    "# plt.ylim(*ylims_norm)\n",
    "\n",
    "ax = cb.ax\n",
    "text = ax.yaxis.label\n",
    "font = matplotlib.font_manager.FontProperties(size=fontsize)\n",
    "text.set_font_properties(font)\n",
    "\n",
    "plt.scatter(critical_points[:,0], critical_points[:,1], s=50, c='w', label='Critical points')\n",
    "\n",
    "plt.xlabel(r'$v_{\\mathrm{R}}$ standardized',fontsize=fontsize)\n",
    "plt.ylabel(r'$v_{\\phi}$ standardized',fontsize=fontsize)\n",
    "\n",
    "plt.show()"
   ]
  },
  {
   "cell_type": "markdown",
   "metadata": {},
   "source": [
    "### Get statistics for a point / location in the space:"
   ]
  },
  {
   "cell_type": "code",
   "execution_count": 9,
   "metadata": {},
   "outputs": [
    {
     "ename": "NameError",
     "evalue": "name 'gapper_base' is not defined",
     "output_type": "error",
     "traceback": [
      "\u001b[0;31m---------------------------------------------------------------------------\u001b[0m",
      "\u001b[0;31mNameError\u001b[0m                                 Traceback (most recent call last)",
      "\u001b[0;32m<ipython-input-9-37564e57f263>\u001b[0m in \u001b[0;36m<module>\u001b[0;34m\u001b[0m\n\u001b[1;32m      2\u001b[0m \u001b[0;34m\u001b[0m\u001b[0m\n\u001b[1;32m      3\u001b[0m \u001b[0;31m## This returns a torch.tensor\u001b[0m\u001b[0;34m\u001b[0m\u001b[0;34m\u001b[0m\u001b[0;34m\u001b[0m\u001b[0m\n\u001b[0;32m----> 4\u001b[0;31m \u001b[0mdensity_ofpt\u001b[0m \u001b[0;34m=\u001b[0m \u001b[0mgapper_base\u001b[0m\u001b[0;34m.\u001b[0m\u001b[0mget_density\u001b[0m\u001b[0;34m(\u001b[0m\u001b[0mpoint_\u001b[0m\u001b[0;34m)\u001b[0m\u001b[0;34m\u001b[0m\u001b[0;34m\u001b[0m\u001b[0m\n\u001b[0m\u001b[1;32m      5\u001b[0m \u001b[0mprint\u001b[0m\u001b[0;34m(\u001b[0m\u001b[0mdensity_ofpt\u001b[0m\u001b[0;34m)\u001b[0m\u001b[0;34m\u001b[0m\u001b[0;34m\u001b[0m\u001b[0m\n",
      "\u001b[0;31mNameError\u001b[0m: name 'gapper_base' is not defined"
     ]
    }
   ],
   "source": [
    "point_ = np.array([ [0.5, -0.5], [1.,0.]])\n",
    "\n",
    "## This returns a torch.tensor\n",
    "density_ofpt = gapper_base.get_density(point_)\n",
    "print(density_ofpt)"
   ]
  },
  {
   "cell_type": "code",
   "execution_count": null,
   "metadata": {
    "scrolled": false
   },
   "outputs": [],
   "source": [
    "## Following function gets the density estimate, its gradient, and the eigenvalues and eigenvector of the Hessian\n",
    "## of a single point\n",
    "\n",
    "point_ = np.array([0.5, -0.5])\n",
    "\n",
    "eig_val_H, eig_vec_H, dens_est, gradient, Hessian = gapper_base.get_g_H_eigvH(point_)\n",
    "print(dens_est)\n",
    "print(gradient)\n",
    "print(eig_val_H)\n",
    "print(eig_vec_H)\n",
    "print(Hessian)"
   ]
  },
  {
   "cell_type": "code",
   "execution_count": null,
   "metadata": {},
   "outputs": [],
   "source": [
    "## Other function can get those .... "
   ]
  },
  {
   "cell_type": "code",
   "execution_count": null,
   "metadata": {},
   "outputs": [],
   "source": [
    "## Some functions are available if one wants to compute only the gradient of the density estimate of a point:\n",
    "grad_pt = gapper_base.get_grad_density(point_)\n",
    "\n",
    "## Or the Hessian:\n",
    "hessian_pt = gapper_base.get_Hessian(point_)\n",
    "\n",
    "## But if one wants to get density + gradient + Hessian, the 'get_grad_density' function might not be ideal because\n",
    "## of redundant calling of the density estimate. Previously computed density estimate can be passed as input\n",
    "## of get_grad_density.\n",
    "\n",
    "## Otherwise, one can also simply access the density estimator (QuarticKDE object) through the gapper_base.kde object\n",
    "## gapper_base.kde.score_sample function  and rely on torch autograd functions (torch.autograd.gradient,\n",
    "## torch.autograd.functional.hessian)\n",
    "\n",
    "print(grad_pt)\n",
    "print(hessian_pt)"
   ]
  },
  {
   "cell_type": "markdown",
   "metadata": {},
   "source": [
    "## Compute information for critical points\n",
    " "
   ]
  },
  {
   "cell_type": "markdown",
   "metadata": {},
   "source": [
    "Eigen-values of the Hessian tell interesting things about the nature of a critical point\n",
    "Its index tells us if it is a minima, maxima or a saddle:\n",
    "\n",
    "index = number of negative eigenvalues of the Hessian of the density estimate (the eigenvalues of the Hessian give us indications on the direction of the curvature of the density field). \n",
    "\n",
    "Maximum point: index of d (number of dimensions of data space)\n",
    "\n",
    "Minimum point: index of 0\n",
    "\n",
    "Saddle point : 0 < index < d\n",
    "\n",
    "\n",
    "\n",
    "Looking at the maximum eigenvalue of the Hessian is also a good indicator to find the best 'gap' point of interest\n"
   ]
  },
  {
   "cell_type": "code",
   "execution_count": null,
   "metadata": {},
   "outputs": [],
   "source": [
    "H_eigval_crits = []\n",
    "t = time.time()\n",
    "for pts in critical_points:\n",
    "    eig_val_H, eig_vec_H, logd_apoint, g, H = gapper_base.get_g_H_eigvH(pts)\n",
    "    H_eigval_crits.append(eig_val_H)\n",
    "\n",
    "print(time.time() - t)"
   ]
  },
  {
   "cell_type": "code",
   "execution_count": null,
   "metadata": {},
   "outputs": [],
   "source": [
    "H_eigval_crits = np.array(H_eigval_crits)\n",
    "\n",
    "max_eigval_H = np.max(H_eigval_crits, axis=1)"
   ]
  },
  {
   "cell_type": "code",
   "execution_count": null,
   "metadata": {},
   "outputs": [],
   "source": [
    "index_count_eigvalH = np.sum(H_eigval_crits < 0 , axis=1) "
   ]
  },
  {
   "cell_type": "code",
   "execution_count": null,
   "metadata": {},
   "outputs": [],
   "source": [
    "plt.figure(figsize=(8,7))\n",
    "\n",
    "ctf = plt.contourf(meshgrid[0], meshgrid[1], density_matr, 20, cmap=cm.cividis)\n",
    "\n",
    "critsc = plt.scatter(critical_points[:,0], critical_points[:,1], s=50, c=index_count_eigvalH,\n",
    "            cmap = cm.PiYG.reversed(), edgecolor='k', vmin =0, \n",
    "                     vmax=2)\n",
    "\n",
    "cb = plt.colorbar(label='Index (count of eigenvalue < 0)')\n",
    "\n",
    "\n",
    "ax = cb.ax\n",
    "text = ax.yaxis.label\n",
    "font = matplotlib.font_manager.FontProperties(size=fontsize)\n",
    "text.set_font_properties(font)\n",
    "\n",
    "plt.xlabel(r'$v_{\\mathrm{R}}$ standardized',fontsize=fontsize)\n",
    "plt.ylabel(r'$v_{\\phi}$ standardized',fontsize=fontsize)\n",
    "\n",
    "plt.show()\n",
    "#####\n",
    "\n",
    "plt.figure(figsize=(8,7))\n",
    "\n",
    "ctf = plt.contourf(meshgrid[0], meshgrid[1], density_matr, 20, cmap=cm.cividis)\n",
    "\n",
    "critsc = plt.scatter(critical_points[:,0], critical_points[:,1], s=80, c=index_count_eigvalH,\n",
    "            cmap = cm.PiYG.reversed(), edgecolor='k', vmin =0, \n",
    "                     vmax=2)\n",
    "\n",
    "cb = plt.colorbar(label='Index (count of eigenvalue < 0)')\n",
    "\n",
    "\n",
    "ax = cb.ax\n",
    "text = ax.yaxis.label\n",
    "font = matplotlib.font_manager.FontProperties(size=fontsize)\n",
    "text.set_font_properties(font)\n",
    "\n",
    "\n",
    "plt.xlim(*xlims_norm)\n",
    "plt.ylim(*ylims_norm)\n",
    "\n",
    "plt.xlabel(r'$v_{\\mathrm{R}}$ standardized',fontsize=fontsize)\n",
    "plt.ylabel(r'$v_{\\phi}$ standardized',fontsize=fontsize)\n",
    "\n",
    "plt.show()"
   ]
  },
  {
   "cell_type": "code",
   "execution_count": null,
   "metadata": {},
   "outputs": [],
   "source": [
    "## Critical points with a maximum eigenvalue of the Hessian close to zero are of less interest if one is looking \n",
    "## gaps or bumps in the density distribution\n",
    "\n",
    "plt.figure(figsize=(8,7))\n",
    "\n",
    "ctf = plt.contourf(meshgrid[0], meshgrid[1], density_matr, 20, cmap=cm.cividis)\n",
    "\n",
    "critsc = plt.scatter(critical_points[:,0], critical_points[:,1], s=50, c=max_eigval_H,\n",
    "            cmap = cm.RdBu.reversed(), edgecolor='k', vmin = -(np.max(np.abs(max_eigval_H))), \n",
    "                     vmax=np.max(np.abs(max_eigval_H)))\n",
    "\n",
    "cb = plt.colorbar(label='Maximum eigenvalue of Hessian')\n",
    "\n",
    "\n",
    "ax = cb.ax\n",
    "text = ax.yaxis.label\n",
    "font = matplotlib.font_manager.FontProperties(size=fontsize)\n",
    "text.set_font_properties(font)\n",
    "\n",
    "plt.xlabel(r'$v_{\\mathrm{R}}$ standardized',fontsize=fontsize)\n",
    "plt.ylabel(r'$v_{\\phi}$ standardized',fontsize=fontsize)\n",
    "\n",
    "plt.show()\n",
    "\n",
    "#####\n",
    "\n",
    "plt.figure(figsize=(8,7))\n",
    "\n",
    "ctf = plt.contourf(meshgrid[0], meshgrid[1], density_matr, 20, cmap=cm.cividis)\n",
    "\n",
    "critsc = plt.scatter(critical_points[:,0], critical_points[:,1], s=80, c=max_eigval_H,\n",
    "            cmap = cm.RdBu.reversed(), edgecolor='k', vmin = -(np.max(np.abs(max_eigval_H))), \n",
    "                     vmax=np.max(np.abs(max_eigval_H)))\n",
    "\n",
    "cb = plt.colorbar(label='Maximum eigenvalue of Hessian')\n",
    "\n",
    "plt.xlim(*xlims_norm)\n",
    "plt.ylim(*ylims_norm)\n",
    "\n",
    "ax = cb.ax\n",
    "text = ax.yaxis.label\n",
    "font = matplotlib.font_manager.FontProperties(size=fontsize)\n",
    "text.set_font_properties(font)\n",
    "\n",
    "plt.xlabel(r'$v_{\\mathrm{R}}$ standardized',fontsize=fontsize)\n",
    "plt.ylabel(r'$v_{\\phi}$ standardized',fontsize=fontsize)\n",
    "\n",
    "plt.show()"
   ]
  },
  {
   "cell_type": "markdown",
   "metadata": {},
   "source": [
    "### Difference between index and maximum eigenvalue of H"
   ]
  },
  {
   "cell_type": "code",
   "execution_count": null,
   "metadata": {},
   "outputs": [],
   "source": [
    "fig, axs = plt.subplots(1, 2, figsize=(9*2,7))\n",
    "\n",
    "\n",
    "ctf = axs[0].contourf(meshgrid[0], meshgrid[1], density_matr, 20, cmap=cm.cividis)\n",
    "\n",
    "critsc = axs[0].scatter(critical_points[:,0], critical_points[:,1], s=80, c= index_count_eigvalH,\n",
    "                        cmap = cm.PiYG.reversed(), edgecolor='k', vmin =0, \n",
    "                     vmax=2)\n",
    "\n",
    "cb= fig.colorbar(critsc, ax=axs[0], label='Index (count of eigenvalue < 0)')\n",
    "ax = cb.ax\n",
    "text = ax.yaxis.label\n",
    "font = matplotlib.font_manager.FontProperties(size=fontsize)\n",
    "text.set_font_properties(font)\n",
    "\n",
    "ctf = axs[1].contourf(meshgrid[0], meshgrid[1], density_matr, 20, cmap=cm.cividis)\n",
    "\n",
    "critsc = axs[1].scatter(critical_points[:,0], critical_points[:,1], s=80, c=max_eigval_H,\n",
    "            cmap = cm.RdBu.reversed(), edgecolor='k', vmin = -(np.max(np.abs(max_eigval_H))), \n",
    "                     vmax=np.max(np.abs(max_eigval_H)))\n",
    "\n",
    "\n",
    "cb = fig.colorbar(critsc, ax=axs[1], label='Maximum eigenvalue of Hessian')\n",
    "ax = cb.ax\n",
    "text = ax.yaxis.label\n",
    "font = matplotlib.font_manager.FontProperties(size=fontsize)\n",
    "text.set_font_properties(font)\n",
    "\n",
    "for i in [0,1]:\n",
    "    axs[i].set_xlim(*xlims_norm)\n",
    "    axs[i].set_ylim(*ylims_norm)\n",
    "\n",
    "\n",
    "plt.show()"
   ]
  },
  {
   "cell_type": "code",
   "execution_count": null,
   "metadata": {},
   "outputs": [],
   "source": []
  },
  {
   "cell_type": "markdown",
   "metadata": {},
   "source": [
    "### Computing 'gradient' path from critical points of interest\n",
    "\n",
    "Let's look at the critical points with the largest maximum eigenvalue for the Hessian (the critical points corresponding to 'gappiest' regions)"
   ]
  },
  {
   "cell_type": "code",
   "execution_count": null,
   "metadata": {},
   "outputs": [],
   "source": [
    "N = 15\n",
    "\n",
    "idx_best_crits  = np.argsort(max_eigval_H)[::-1][:N]"
   ]
  },
  {
   "cell_type": "code",
   "execution_count": null,
   "metadata": {},
   "outputs": [],
   "source": [
    "paths_best_crits = []\n",
    "t = time.time()\n",
    "for crit in critical_points[idx_best_crits]:\n",
    "    path, feedbacks = gapper_base.compute_path_of_a_critpt(crit)\n",
    "    paths_best_crits.append(path)\n",
    "\n",
    "print(time.time() - t)"
   ]
  },
  {
   "cell_type": "code",
   "execution_count": null,
   "metadata": {},
   "outputs": [],
   "source": [
    "\n",
    "plt.figure(figsize=(8,7))\n",
    "\n",
    "ctf = plt.contourf(meshgrid[0], meshgrid[1], density_matr, 20, cmap=cm.cividis)\n",
    "\n",
    "for path in paths_best_crits:\n",
    "    plt.scatter(path[:,0], path[:,1], s=90, c='w', alpha=.25)\n",
    "\n",
    "    \n",
    "critsc = plt.scatter(critical_points[idx_best_crits][:,0], critical_points[idx_best_crits][:,1], \n",
    "                     s=70, c=max_eigval_H[idx_best_crits],\n",
    "            cmap = cm.RdBu.reversed(), edgecolor='k', vmin = -(np.max(np.abs(max_eigval_H))), \n",
    "                     vmax=np.max(np.abs(max_eigval_H)))\n",
    "\n",
    "cb = plt.colorbar(label='Maximum eigenvalue of Hessian')\n",
    "\n",
    "\n",
    "plt.xlim(*xlims_norm)\n",
    "plt.ylim(*ylims_norm)\n",
    "\n",
    "ax = cb.ax\n",
    "text = ax.yaxis.label\n",
    "font = matplotlib.font_manager.FontProperties(size=fontsize)\n",
    "text.set_font_properties(font)\n",
    "\n",
    "plt.xlabel(r'$v_{\\mathrm{R}}$ standardized',fontsize=fontsize)\n",
    "plt.ylabel(r'$v_{\\phi}$ standardized',fontsize=fontsize)\n",
    "\n",
    "plt.show()"
   ]
  },
  {
   "cell_type": "markdown",
   "metadata": {},
   "source": [
    "We can see that the paths connect critical points with each other / overlap"
   ]
  },
  {
   "cell_type": "code",
   "execution_count": null,
   "metadata": {},
   "outputs": [],
   "source": []
  },
  {
   "cell_type": "code",
   "execution_count": null,
   "metadata": {},
   "outputs": [],
   "source": [
    "t = time.time()\n",
    "\n",
    "eig_vals_H = np.array([np.linalg.eigh(gapper_base.get_Hessian(pt))[0] for pt in grid_data])\n",
    "\n",
    "print(time.time() -t)"
   ]
  },
  {
   "cell_type": "code",
   "execution_count": null,
   "metadata": {},
   "outputs": [],
   "source": [
    "max_eig_vals_H_grid = np.max(eig_vals_H, axis=1).reshape((gridding_size, gridding_size))"
   ]
  },
  {
   "cell_type": "code",
   "execution_count": null,
   "metadata": {},
   "outputs": [],
   "source": [
    "plt.figure(figsize=(8,7))\n",
    "\n",
    "plt.contourf(meshgrid[0], meshgrid[1], max_eig_vals_H_grid, 20, cmap=cm.RdBu.reversed(),\n",
    "             vmin = -(np.max(np.abs(max_eig_vals_H_grid))), vmax=np.max(np.abs(max_eig_vals_H_grid)))\n",
    "\n",
    "cb = plt.colorbar(label=\"Maximum eigenvalue of the Hessian $\\mathbf{H}$\")\n",
    "ax = cb.ax\n",
    "text = ax.yaxis.label\n",
    "font = matplotlib.font_manager.FontProperties(size=fontsize-2)\n",
    "text.set_font_properties(font)\n",
    "\n",
    "plt.contour(meshgrid[0], meshgrid[1], density_matr, 20, cmap=cm.copper, alpha=.5)\n",
    "\n",
    "\n",
    "critsc = plt.scatter(critical_points[idx_best_crits][:,0], critical_points[idx_best_crits][:,1], \n",
    "                     s=80, c=\"None\", edgecolor='k', label='{} best critical points'.format(N))\n",
    "\n",
    "plt.legend()\n",
    "\n",
    "plt.xlim(*xlims_norm)\n",
    "plt.ylim(*ylims_norm)\n",
    "\n",
    "\n",
    "plt.xlabel(r'$v_{\\mathrm{R}}$ standardized',fontsize=fontsize)\n",
    "plt.ylabel(r'$v_{\\phi}$ standardized',fontsize=fontsize)\n",
    "\n",
    "plt.show()\n"
   ]
  },
  {
   "cell_type": "code",
   "execution_count": null,
   "metadata": {},
   "outputs": [],
   "source": []
  },
  {
   "cell_type": "markdown",
   "metadata": {},
   "source": [
    "## Computing PiHPi "
   ]
  },
  {
   "cell_type": "code",
   "execution_count": null,
   "metadata": {},
   "outputs": [],
   "source": [
    "t = time.time()\n",
    "\n",
    "## If the gradient and Hessian have been computed before, they can be put as argument of that function to avoid\n",
    "## recomputing them\n",
    "\n",
    "PiHPis_grid = []\n",
    "eigval_PiHPi = [] \n",
    "\n",
    "for pt in grid_data:\n",
    "    _pihpi = gapper_base.get_PiHPi(pt) \n",
    "    _pihpi_eigval, _pihpi_eigvec = np.linalg.eigh(_pihpi)\n",
    "    \n",
    "    PiHPis_grid.append(_pihpi)\n",
    "    eigval_PiHPi.append(_pihpi_eigval)\n",
    "\n",
    "print(time.time() -t)"
   ]
  },
  {
   "cell_type": "code",
   "execution_count": null,
   "metadata": {},
   "outputs": [],
   "source": []
  },
  {
   "cell_type": "markdown",
   "metadata": {},
   "source": [
    "### Maximum eigenvalue of PiHPi as gap-criterion"
   ]
  },
  {
   "cell_type": "code",
   "execution_count": null,
   "metadata": {},
   "outputs": [],
   "source": [
    "PiHPis_grid, eigval_PiHPi = np.array(PiHPis_grid), np.array(eigval_PiHPi)"
   ]
  },
  {
   "cell_type": "code",
   "execution_count": null,
   "metadata": {},
   "outputs": [],
   "source": [
    "max_eigval_PiHPi = np.max(eigval_PiHPi, axis=1)"
   ]
  },
  {
   "cell_type": "code",
   "execution_count": null,
   "metadata": {},
   "outputs": [],
   "source": [
    "max_eigval_PiHPi_resh = max_eigval_PiHPi.reshape((gridding_size, gridding_size))\n",
    "\n",
    "plt.figure(figsize=(8,7))\n",
    "\n",
    "pi = plt.contourf(meshgrid[0], meshgrid[1], max_eigval_PiHPi_resh, 20, cmap=cm.afmhot, extend='min')\n",
    "plt.contour(meshgrid[0], meshgrid[1], density_matr, 20, cmap=cm.spring, alpha=.5)\n",
    "\n",
    "critsc = plt.scatter(critical_points[idx_best_crits][:,0], critical_points[idx_best_crits][:,1], \n",
    "                     s=80, c=\"None\", edgecolor='w', label='{} best critical points'.format(N))\n",
    "\n",
    "\n",
    "cb = plt.colorbar(pi, label=\"Maximum eigenvalue of $\\Pi \\mathbf{H} \\Pi$ rescaled\")\n",
    "ax = cb.ax\n",
    "text = ax.yaxis.label\n",
    "font = matplotlib.font_manager.FontProperties(size=fontsize-2)\n",
    "text.set_font_properties(font)\n",
    "\n",
    "plt.legend(fontsize=15)\n",
    "\n",
    "plt.xlabel(r'$v_{\\mathrm{R}}$ standardized',fontsize=fontsize)\n",
    "plt.ylabel(r'$v_{\\phi}$ standardized',fontsize=fontsize)\n",
    "\n",
    "plt.xlim(*xlims_norm)\n",
    "plt.ylim(*ylims_norm)\n",
    "\n",
    "plt.show()"
   ]
  },
  {
   "cell_type": "code",
   "execution_count": null,
   "metadata": {},
   "outputs": [],
   "source": []
  },
  {
   "cell_type": "markdown",
   "metadata": {},
   "source": [
    "### Looking at the Trace of PiHPi"
   ]
  },
  {
   "cell_type": "code",
   "execution_count": null,
   "metadata": {},
   "outputs": [],
   "source": [
    "trace_PiHPi = np.trace(PiHPis_grid, axis1=1, axis2=2)"
   ]
  },
  {
   "cell_type": "code",
   "execution_count": null,
   "metadata": {},
   "outputs": [],
   "source": [
    "trace_PiHPi_resh = trace_PiHPi.reshape((gridding_size, gridding_size))\n",
    "\n",
    "plt.figure(figsize=(8,7))\n",
    "\n",
    "pi = plt.contourf(meshgrid[0], meshgrid[1], trace_PiHPi_resh, 20, cmap=cm.afmhot)\n",
    "plt.contour(meshgrid[0], meshgrid[1], density_matr, 20, cmap=cm.winter, alpha=.5)\n",
    "\n",
    "critsc = plt.scatter(critical_points[idx_best_crits][:,0], critical_points[idx_best_crits][:,1], \n",
    "                     s=80, c=\"None\", edgecolor='k', label='{} best critical points'.format(N))\n",
    "\n",
    "\n",
    "cb = plt.colorbar(pi, label=\"Trace of $\\Pi \\mathbf{H} \\Pi$ rescaled\")\n",
    "ax = cb.ax\n",
    "text = ax.yaxis.label\n",
    "font = matplotlib.font_manager.FontProperties(size=fontsize-2)\n",
    "text.set_font_properties(font)\n",
    "\n",
    "plt.legend(fontsize=15)\n",
    "\n",
    "plt.xlabel(r'$v_{\\mathrm{R}}$ standardized',fontsize=fontsize)\n",
    "plt.ylabel(r'$v_{\\phi}$ standardized',fontsize=fontsize)\n",
    "\n",
    "plt.xlim(*xlims_norm)\n",
    "plt.ylim(*ylims_norm)\n",
    "\n",
    "plt.show()"
   ]
  },
  {
   "cell_type": "markdown",
   "metadata": {},
   "source": [
    "#### Similarly, these measures can be computed directly for points within the dataset:\n",
    "\n",
    "(might take a bit given the number of examples in the dataset but could be optimized / parallelized)"
   ]
  },
  {
   "cell_type": "code",
   "execution_count": null,
   "metadata": {},
   "outputs": [],
   "source": [
    "t = time.time()\n",
    "\n",
    "PiHPis_data = []\n",
    "eigval_PiHPi_data = [] \n",
    "\n",
    "for pt in data:\n",
    "    _pihpi = gapper_base.get_PiHPi(pt) \n",
    "    _pihpi_eigval, _pihpi_eigvec = np.linalg.eigh(_pihpi)\n",
    "    \n",
    "    PiHPis_data.append(_pihpi)\n",
    "    eigval_PiHPi_data.append(_pihpi_eigval)\n",
    "    \n",
    "    \n",
    "print(time.time() -t)"
   ]
  },
  {
   "cell_type": "markdown",
   "metadata": {},
   "source": [
    "One can then select the points of interest using some threshold on one of the statistics (e.g. above some threshold)\n"
   ]
  },
  {
   "cell_type": "code",
   "execution_count": null,
   "metadata": {},
   "outputs": [],
   "source": [
    "max_eigval_PiHPi_data = np.max(eigval_PiHPi_data, axis=1)"
   ]
  },
  {
   "cell_type": "code",
   "execution_count": null,
   "metadata": {},
   "outputs": [],
   "source": [
    "threshold_eigvalPiHPi = np.percentile(eigval_PiHPi, 99)"
   ]
  },
  {
   "cell_type": "code",
   "execution_count": null,
   "metadata": {},
   "outputs": [],
   "source": [
    "plt.figure(figsize=(7,7))\n",
    "\n",
    "mask_threshold_eigval = max_eigval_PiHPi_data > threshold_eigvalPiHPi\n",
    "\n",
    "\n",
    "plt.scatter(data[mask_threshold_eigval][:,0], data[mask_threshold_eigval][:,1], \n",
    "                     s=1, c=\"k\")\n",
    "\n",
    "\n",
    "plt.contour(meshgrid[0], meshgrid[1], density_matr, 20, cmap=cm.winter, alpha=.5)\n",
    "\n",
    "\n",
    "plt.title(\"Points selected with threshold cut using max eigenvalue on grid\")\n",
    "plt.xlabel(r'$v_{\\mathrm{R}}$ standardized',fontsize=fontsize)\n",
    "plt.ylabel(r'$v_{\\phi}$ standardized',fontsize=fontsize)\n",
    "\n",
    "plt.xlim(*xlims_norm)\n",
    "plt.ylim(*ylims_norm)\n",
    "\n",
    "plt.show()"
   ]
  },
  {
   "cell_type": "code",
   "execution_count": null,
   "metadata": {},
   "outputs": [],
   "source": [
    "\n",
    "plt.figure(figsize=(7,7))\n",
    "plt.hexbin(data[:,0],data[:,1],\n",
    "           gridsize=500,bins='log',mincnt=1,cmap=cm.cividis) \n",
    "\n",
    "\n",
    "mask_threshold_eigval = max_eigval_PiHPi_data > threshold_eigvalPiHPi\n",
    "\n",
    "\n",
    "plt.scatter(data[mask_threshold_eigval][:,0], data[mask_threshold_eigval][:,1], \n",
    "                     s=.5, c=\"r\", alpha=.1)\n",
    "\n",
    "\n",
    "\n",
    "plt.xlabel(r'$v_{\\mathrm{R}}$ standardized',fontsize=fontsize)\n",
    "plt.ylabel(r'$v_{\\phi}$ standardized',fontsize=fontsize)\n",
    "\n",
    "plt.xlim(*xlims_norm)\n",
    "plt.ylim(*ylims_norm)\n",
    "plt.show()"
   ]
  },
  {
   "cell_type": "code",
   "execution_count": null,
   "metadata": {},
   "outputs": [],
   "source": []
  },
  {
   "cell_type": "code",
   "execution_count": null,
   "metadata": {},
   "outputs": [],
   "source": []
  }
 ],
 "metadata": {
  "kernelspec": {
   "display_name": "Python 3",
   "language": "python",
   "name": "python3"
  },
  "language_info": {
   "codemirror_mode": {
    "name": "ipython",
    "version": 3
   },
   "file_extension": ".py",
   "mimetype": "text/x-python",
   "name": "python",
   "nbconvert_exporter": "python",
   "pygments_lexer": "ipython3",
   "version": "3.6.8"
  }
 },
 "nbformat": 4,
 "nbformat_minor": 2
}
